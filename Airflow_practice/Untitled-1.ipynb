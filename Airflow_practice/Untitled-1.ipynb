{
 "cells": [
  {
   "cell_type": "code",
   "execution_count": 6,
   "id": "cc9ba8a9",
   "metadata": {},
   "outputs": [
    {
     "ename": "ModuleNotFoundError",
     "evalue": "No module named 'google.cloud'",
     "output_type": "error",
     "traceback": [
      "\u001b[1;31m---------------------------------------------------------------------------\u001b[0m",
      "\u001b[1;31mModuleNotFoundError\u001b[0m                       Traceback (most recent call last)",
      "Cell \u001b[1;32mIn[6], line 2\u001b[0m\n\u001b[0;32m      1\u001b[0m \u001b[38;5;28;01mimport\u001b[39;00m\u001b[38;5;250m \u001b[39m\u001b[38;5;21;01mpandas\u001b[39;00m\u001b[38;5;250m \u001b[39m\u001b[38;5;28;01mas\u001b[39;00m\u001b[38;5;250m \u001b[39m\u001b[38;5;21;01mpd\u001b[39;00m\n\u001b[1;32m----> 2\u001b[0m \u001b[38;5;28;01mfrom\u001b[39;00m\u001b[38;5;250m \u001b[39m\u001b[38;5;21;01mgoogle\u001b[39;00m\u001b[38;5;21;01m.\u001b[39;00m\u001b[38;5;21;01mcloud\u001b[39;00m\u001b[38;5;250m \u001b[39m\u001b[38;5;28;01mimport\u001b[39;00m bigquery\n\u001b[0;32m      4\u001b[0m \u001b[38;5;66;03m# ---- Config ----\u001b[39;00m\n\u001b[0;32m      5\u001b[0m csv_path \u001b[38;5;241m=\u001b[39m \u001b[38;5;124m\"\u001b[39m\u001b[38;5;124mC:/Users/lenovo/Downloads/csv_1.csv\u001b[39m\u001b[38;5;124m\"\u001b[39m\n",
      "\u001b[1;31mModuleNotFoundError\u001b[0m: No module named 'google.cloud'"
     ]
    }
   ],
   "source": [
    "import pandas as pd\n",
    "from google.cloud import bigquery\n",
    "\n",
    "# ---- Config ----\n",
    "csv_path = \"C:/Users/lenovo/Downloads/csv_1.csv\"\n",
    "table_id = \"deep-chimera-459105-q6.my_dataset.tb_1\"\n",
    "\n",
    "# ---- Step 1: Get BigQuery schema column names ----\n",
    "client = bigquery.Client()\n",
    "table = client.get_table(table_id)\n",
    "bq_columns = [schema_field.name for schema_field in table.schema]\n",
    "\n",
    "# ---- Step 2: Load CSV ----\n",
    "df = pd.read_csv(csv_path)\n",
    "csv_columns = list(df.columns)\n",
    "\n",
    "# ---- Step 3: Normalize CSV columns (to lowercase, underscores) ----\n",
    "normalized_csv_columns = [col.strip().lower().replace(\" \", \"_\") for col in csv_columns]\n",
    "\n",
    "# ---- Step 4: Try to match normalized columns with BigQuery schema ----\n",
    "column_mapping = {}\n",
    "for original, normalized in zip(csv_columns, normalized_csv_columns):\n",
    "    if normalized in bq_columns:\n",
    "        column_mapping[original] = normalized\n",
    "    elif original in bq_columns:\n",
    "        column_mapping[original] = original  # already good\n",
    "\n",
    "# Rename if needed\n",
    "df.rename(columns=column_mapping, inplace=True)\n",
    "\n",
    "# Final check: keep only matching columns\n",
    "df = df[[col for col in df.columns if col in bq_columns]]\n",
    "\n",
    "# ---- Step 5: Load to BigQuery ----\n",
    "job_config = bigquery.LoadJobConfig(write_disposition=\"WRITE_APPEND\")\n",
    "job = client.load_table_from_dataframe(df, table_id, job_config=job_config)\n",
    "job.result()\n",
    "\n",
    "print(f\"✅ Loaded {job.output_rows} rows to {table_id}\")\n"
   ]
  }
 ],
 "metadata": {
  "kernelspec": {
   "display_name": "Python 3",
   "language": "python",
   "name": "python3"
  },
  "language_info": {
   "codemirror_mode": {
    "name": "ipython",
    "version": 3
   },
   "file_extension": ".py",
   "mimetype": "text/x-python",
   "name": "python",
   "nbconvert_exporter": "python",
   "pygments_lexer": "ipython3",
   "version": "3.11.0"
  }
 },
 "nbformat": 4,
 "nbformat_minor": 5
}
